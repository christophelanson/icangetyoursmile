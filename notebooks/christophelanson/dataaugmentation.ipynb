{
 "cells": [
  {
   "cell_type": "code",
   "execution_count": 2,
   "id": "c4c41c39",
   "metadata": {},
   "outputs": [],
   "source": [
    "%load_ext autoreload\n",
    "%autoreload 2\n",
    "import numpy as np\n",
    "from tensorflow.keras import layers, Sequential"
   ]
  },
  {
   "cell_type": "code",
   "execution_count": 7,
   "id": "568e2ef7",
   "metadata": {},
   "outputs": [],
   "source": [
    "def create_data_augmentation_model(random_flip=\"horizontal\", random_rotation=0.03):\n",
    "    \"\"\"\n",
    "    creates a model of data augmentation using Sequential\n",
    "    hyperparameters :\n",
    "    random_flip = \"horizontal\" \"vertical\" \"horizontal and vertical\"\n",
    "    random_rotation = 0.03 (0.03 == 3% x 360°)\n",
    "    \"\"\"\n",
    "    model = Sequential([\n",
    "            layers.RandomFlip(random_flip),\n",
    "            layers.RandomRotation(random_rotation),\n",
    "            ])\n",
    "    return model"
   ]
  },
  {
   "cell_type": "code",
   "execution_count": 84,
   "id": "7dcbb6b9",
   "metadata": {},
   "outputs": [
    {
     "data": {
      "text/plain": [
       "<keras.engine.sequential.Sequential at 0x7f0b77601d30>"
      ]
     },
     "execution_count": 84,
     "metadata": {},
     "output_type": "execute_result"
    }
   ],
   "source": [
    "model = create_data_augmentation_model()\n",
    "model"
   ]
  },
  {
   "cell_type": "code",
   "execution_count": 70,
   "id": "535e6643",
   "metadata": {},
   "outputs": [],
   "source": [
    "from PIL import Image"
   ]
  },
  {
   "cell_type": "code",
   "execution_count": 71,
   "id": "fc5a65d3",
   "metadata": {},
   "outputs": [
    {
     "data": {
      "image/png": "[encoded data removed]",
      "text/plain": [
       "<PIL.PngImagePlugin.PngImageFile image mode=RGB size=64x64 at 0x7F0B77647FD0>"
      ]
     },
     "execution_count": 71,
     "metadata": {},
     "output_type": "execute_result"
    }
   ],
   "source": [
    "im_nb = 3570\n",
    "im_path = f\"/home/christophelanson/code/christophelanson/icangetyoursmile/raw_data/64x64/No_mask/seed{im_nb}.png\"\n",
    "image = Image.open(im_path)\n",
    "image"
   ]
  },
  {
   "cell_type": "code",
   "execution_count": 81,
   "id": "fb6300a0",
   "metadata": {},
   "outputs": [],
   "source": [
    "new_image = model(np.array(image))"
   ]
  },
  {
   "cell_type": "code",
   "execution_count": 82,
   "id": "09fe008c",
   "metadata": {},
   "outputs": [
    {
     "data": {
      "text/plain": [
       "TensorShape([64, 64, 3])"
      ]
     },
     "execution_count": 82,
     "metadata": {},
     "output_type": "execute_result"
    }
   ],
   "source": [
    "new_image.shape"
   ]
  },
  {
   "cell_type": "code",
   "execution_count": 83,
   "id": "6931ce3b",
   "metadata": {},
   "outputs": [
    {
     "data": {
      "image/png": "[encoded data removed]",
      "text/plain": [
       "<PIL.Image.Image image mode=RGB size=64x64 at 0x7F0B776470A0>"
      ]
     },
     "execution_count": 83,
     "metadata": {},
     "output_type": "execute_result"
    }
   ],
   "source": [
    "\n",
    "new_image = Image.fromarray(np.array(new_image,dtype=np.uint8))\n",
    "new_image"
   ]
  },
  {
   "cell_type": "code",
   "execution_count": null,
   "id": "d92054ae",
   "metadata": {},
   "outputs": [],
   "source": []
  }
 ],
 "metadata": {
  "kernelspec": {
   "display_name": "Python 3 (ipykernel)",
   "language": "python",
   "name": "python3"
  },
  "language_info": {
   "codemirror_mode": {
    "name": "ipython",
    "version": 3
   },
   "file_extension": ".py",
   "mimetype": "text/x-python",
   "name": "python",
   "nbconvert_exporter": "python",
   "pygments_lexer": "ipython3",
   "version": "3.8.12"
  },
  "toc": {
   "base_numbering": 1,
   "nav_menu": {},
   "number_sections": true,
   "sideBar": true,
   "skip_h1_title": false,
   "title_cell": "Table of Contents",
   "title_sidebar": "Contents",
   "toc_cell": false,
   "toc_position": {},
   "toc_section_display": true,
   "toc_window_display": false
  }
 },
 "nbformat": 4,
 "nbformat_minor": 5
}

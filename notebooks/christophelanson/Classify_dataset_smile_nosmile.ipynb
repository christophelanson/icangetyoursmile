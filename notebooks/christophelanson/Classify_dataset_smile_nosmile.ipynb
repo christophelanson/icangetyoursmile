{
 "cells": [
  {
   "cell_type": "code",
   "execution_count": 1,
   "id": "7e9e1466",
   "metadata": {},
   "outputs": [],
   "source": [
    "from PIL import Image\n",
    "import os"
   ]
  },
  {
   "cell_type": "code",
   "execution_count": 2,
   "id": "1124f8a0",
   "metadata": {},
   "outputs": [],
   "source": [
    "import numpy as np"
   ]
  },
  {
   "cell_type": "code",
   "execution_count": 5,
   "id": "a00e245b",
   "metadata": {},
   "outputs": [],
   "source": [
    "from numpy import genfromtxt"
   ]
  },
  {
   "cell_type": "code",
   "execution_count": 28,
   "id": "8f5fbe01",
   "metadata": {},
   "outputs": [],
   "source": [
    "import shutil"
   ]
  },
  {
   "cell_type": "code",
   "execution_count": 8,
   "id": "dc9c845b",
   "metadata": {},
   "outputs": [],
   "source": [
    "file_path = '/home/christophelanson/code/christophelanson/icangetyoursmile/raw_data/Kaggle_Mask_Lite_dataset/No_smile_photo_tags.csv'"
   ]
  },
  {
   "cell_type": "code",
   "execution_count": 30,
   "id": "2d626710",
   "metadata": {},
   "outputs": [
    {
     "data": {
      "text/plain": [
       "'0054'"
      ]
     },
     "execution_count": 30,
     "metadata": {},
     "output_type": "execute_result"
    }
   ],
   "source": [
    "list_tags_no_smile = genfromtxt(file_path,delimiter=\";\",skip_header=1)\n",
    "list_tags_no_smile = list_tags_no_smile.T[0].tolist()\n",
    "image_names = [str(int(i)).zfill(4) for i in list_tags_no_smile]\n",
    "image_names[10]"
   ]
  },
  {
   "cell_type": "code",
   "execution_count": 31,
   "id": "4d608f70",
   "metadata": {},
   "outputs": [
    {
     "data": {
      "text/plain": [
       "'/home/christophelanson/code/christophelanson/icangetyoursmile/raw_data/Kaggle_Mask_Lite_dataset/without_mask/seed0575.png'"
      ]
     },
     "execution_count": 31,
     "metadata": {},
     "output_type": "execute_result"
    }
   ],
   "source": [
    "image_nb = 100\n",
    "path = f'/home/christophelanson/code/christophelanson/icangetyoursmile/raw_data/Kaggle_Mask_Lite_dataset/without_mask/seed{image_names[image_nb]}.png'\n",
    "path"
   ]
  },
  {
   "cell_type": "code",
   "execution_count": 32,
   "id": "54338730",
   "metadata": {},
   "outputs": [],
   "source": [
    "path_to_no_smile = '/home/christophelanson/code/christophelanson/icangetyoursmile/raw_data/Kaggle_Mask_Lite_dataset/no_smile'"
   ]
  },
  {
   "cell_type": "code",
   "execution_count": 33,
   "id": "985e22d8",
   "metadata": {},
   "outputs": [],
   "source": [
    "for image_nb in range(len(image_names)):\n",
    "    image_path = f'/home/christophelanson/code/christophelanson/icangetyoursmile/raw_data/Kaggle_Mask_Lite_dataset/without_mask/seed{image_names[image_nb]}.png'\n",
    "    shutil.copy(image_path, path_to_no_smile)"
   ]
  },
  {
   "cell_type": "code",
   "execution_count": 40,
   "id": "cf3f1ec5",
   "metadata": {},
   "outputs": [],
   "source": [
    "path_to_smile = '/home/christophelanson/code/christophelanson/icangetyoursmile/raw_data/Kaggle_Mask_Lite_dataset/smile'\n",
    "nb_copied_images = 0\n",
    "for image_nb in range(10000):\n",
    "    image_string = str(image_nb).zfill(4)\n",
    "    if image_string not in image_names:\n",
    "        image_path = f'/home/christophelanson/code/christophelanson/icangetyoursmile/raw_data/Kaggle_Mask_Lite_dataset/without_mask/seed{image_string}.png'\n",
    "        shutil.copy(image_path, path_to_smile)\n",
    "        nb_copied_images += 1"
   ]
  },
  {
   "cell_type": "code",
   "execution_count": 41,
   "id": "c3b63906",
   "metadata": {},
   "outputs": [
    {
     "data": {
      "text/plain": [
       "10005"
      ]
     },
     "execution_count": 41,
     "metadata": {},
     "output_type": "execute_result"
    }
   ],
   "source": [
    "nb_copied_images+len(image_names)"
   ]
  },
  {
   "cell_type": "code",
   "execution_count": null,
   "id": "5afb6dc2",
   "metadata": {},
   "outputs": [],
   "source": []
  }
 ],
 "metadata": {
  "kernelspec": {
   "display_name": "Python 3 (ipykernel)",
   "language": "python",
   "name": "python3"
  },
  "language_info": {
   "codemirror_mode": {
    "name": "ipython",
    "version": 3
   },
   "file_extension": ".py",
   "mimetype": "text/x-python",
   "name": "python",
   "nbconvert_exporter": "python",
   "pygments_lexer": "ipython3",
   "version": "3.8.12"
  },
  "toc": {
   "base_numbering": 1,
   "nav_menu": {},
   "number_sections": true,
   "sideBar": true,
   "skip_h1_title": false,
   "title_cell": "Table of Contents",
   "title_sidebar": "Contents",
   "toc_cell": false,
   "toc_position": {},
   "toc_section_display": true,
   "toc_window_display": false
  }
 },
 "nbformat": 4,
 "nbformat_minor": 5
}

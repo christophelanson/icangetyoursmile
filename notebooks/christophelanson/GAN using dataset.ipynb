{
 "cells": [
  {
   "cell_type": "markdown",
   "id": "25ce0645",
   "metadata": {},
   "source": [
    "**GAN USING DATASET**"
   ]
  },
  {
   "cell_type": "markdown",
   "id": "c7fb2810",
   "metadata": {
    "heading_collapsed": true
   },
   "source": [
    "# Execute this chapter if using Google colab"
   ]
  },
  {
   "cell_type": "code",
   "execution_count": null,
   "id": "58376584",
   "metadata": {
    "hidden": true
   },
   "outputs": [],
   "source": [
    "from google.colab import auth"
   ]
  },
  {
   "cell_type": "markdown",
   "id": "b90bc59f",
   "metadata": {
    "hidden": true
   },
   "source": [
    "**do not forget to CHANGE EXECUTE TO 'GPU'**"
   ]
  },
  {
   "cell_type": "code",
   "execution_count": null,
   "id": "82be9a47",
   "metadata": {
    "hidden": true
   },
   "outputs": [],
   "source": [
    "auth.authenticate_user()"
   ]
  },
  {
   "cell_type": "code",
   "execution_count": null,
   "id": "9d333752",
   "metadata": {
    "hidden": true
   },
   "outputs": [],
   "source": [
    "project_id = 'le-wagon-337814'\n",
    "!gcloud config set project {project_id}\n",
    "!gsutil ls"
   ]
  },
  {
   "cell_type": "code",
   "execution_count": null,
   "id": "3cdf9e82",
   "metadata": {
    "hidden": true
   },
   "outputs": [],
   "source": [
    "! pip install --quiet git+https://github.com/christophelanson/icangetyoursmile"
   ]
  },
  {
   "cell_type": "markdown",
   "id": "7f34c54f",
   "metadata": {},
   "source": [
    "# Model parameters"
   ]
  },
  {
   "cell_type": "code",
   "execution_count": 59,
   "id": "a2ba9faf",
   "metadata": {},
   "outputs": [],
   "source": [
    "model_name = 'GAN-test'\n",
    "load_model_name = 'nan' # used only if and when loading a pretrained model\n",
    "data_size = 3000 #(number of images to train on)\n",
    "image_size = (64,64)"
   ]
  },
  {
   "cell_type": "markdown",
   "id": "722da77f",
   "metadata": {},
   "source": [
    "# tensorflow.data.Dataset"
   ]
  },
  {
   "cell_type": "code",
   "execution_count": 60,
   "id": "0c64c0f5",
   "metadata": {},
   "outputs": [
    {
     "name": "stdout",
     "output_type": "stream",
     "text": [
      "The autoreload extension is already loaded. To reload it, use:\n",
      "  %reload_ext autoreload\n"
     ]
    }
   ],
   "source": [
    "%load_ext autoreload\n",
    "%autoreload 2"
   ]
  },
  {
   "cell_type": "code",
   "execution_count": 61,
   "id": "1874a723",
   "metadata": {},
   "outputs": [],
   "source": [
    "import numpy as np\n",
    "import os\n",
    "from PIL import Image\n",
    "import matplotlib.pyplot as plt\n",
    "import tensorflow as tf\n",
    "import random"
   ]
  },
  {
   "cell_type": "markdown",
   "id": "a6e3b585",
   "metadata": {},
   "source": [
    "## Train test split dataset"
   ]
  },
  {
   "cell_type": "code",
   "execution_count": 62,
   "id": "7e258fd9",
   "metadata": {},
   "outputs": [
    {
     "data": {
      "text/plain": [
       "[('/home/christophelanson/code/christophelanson/icangetyoursmile/raw_data/64x64/Mask/with-mask-default-mask-seed0268.png',\n",
       "  '/home/christophelanson/code/christophelanson/icangetyoursmile/raw_data/64x64/No_mask/seed0268.png'),\n",
       " ('/home/christophelanson/code/christophelanson/icangetyoursmile/raw_data/64x64/Mask/with-mask-default-mask-seed0032.png',\n",
       "  '/home/christophelanson/code/christophelanson/icangetyoursmile/raw_data/64x64/No_mask/seed0032.png')]"
      ]
     },
     "execution_count": 62,
     "metadata": {},
     "output_type": "execute_result"
    }
   ],
   "source": [
    "from sklearn.model_selection import train_test_split\n",
    "\n",
    "path_to_mask_file = f'/home/christophelanson/code/christophelanson/icangetyoursmile/raw_data/{image_size[0]}x{image_size[1]}/Mask/with-mask-default-mask-seed'\n",
    "path_to_no_mask_file = f'/home/christophelanson/code/christophelanson/icangetyoursmile/raw_data/{image_size[0]}x{image_size[1]}/No_mask/seed'\n",
    "\n",
    "# File_list : list of all files\n",
    "file_list = [(f'{path_to_mask_file}{str(i).zfill(4)}.png', f'{path_to_no_mask_file}{str(i).zfill(4)}.png') for i in np.arange(data_size)]\n",
    "\n",
    "train,test= train_test_split(file_list,test_size=0.2,random_state=1,shuffle=True)\n",
    "train[:2]"
   ]
  },
  {
   "cell_type": "markdown",
   "id": "9d03040d",
   "metadata": {},
   "source": [
    "## Read image function (X and y)"
   ]
  },
  {
   "cell_type": "code",
   "execution_count": 63,
   "id": "3930c184",
   "metadata": {},
   "outputs": [],
   "source": [
    "def X_y_images(filename):\n",
    "    \"\"\" return X (mask) and y (no mask) from a file name\"\"\"\n",
    "    #mask_im = np.asarray(Image.open(filename[0])).tolist()\n",
    "    #no_mask_im = np.asarray(Image.open(filename[1])).tolist()\n",
    "    \n",
    "    #mask_image = tf.io.read_file(filename[0])\n",
    "    #mask_image = tf.image.decode_png(mask_image)\n",
    "    #mask_image = tf.image.convert_image_dtype(mask_image, tf.float32)\n",
    "    \n",
    "    no_mask_image = tf.io.read_file(filename[1])\n",
    "    no_mask_image = tf.image.decode_png(no_mask_image)\n",
    "    no_mask_image = tf.image.convert_image_dtype(no_mask_image, tf.float32)\n",
    "    \n",
    "    return no_mask_image # return mask_image, no_mask_image"
   ]
  },
  {
   "cell_type": "markdown",
   "id": "a3acd529",
   "metadata": {},
   "source": [
    "## Image augmentation"
   ]
  },
  {
   "cell_type": "markdown",
   "id": "72ec6759",
   "metadata": {},
   "source": [
    "TO BE DONE"
   ]
  },
  {
   "cell_type": "markdown",
   "id": "fbfc135f",
   "metadata": {},
   "source": [
    "## Create dataset"
   ]
  },
  {
   "cell_type": "code",
   "execution_count": 64,
   "id": "21a42eda",
   "metadata": {},
   "outputs": [],
   "source": [
    "AUTOTUNE = tf.data.experimental.AUTOTUNE"
   ]
  },
  {
   "cell_type": "code",
   "execution_count": 67,
   "id": "ea1aab64",
   "metadata": {},
   "outputs": [],
   "source": [
    "# Create dataset as a sliced dataset\n",
    "def create_dataset(file_list, batch_size=16):\n",
    "    ds = tf.data.Dataset.from_tensor_slices(file_list)\n",
    "    # Shuffle data (so that the ordering is different at each epoch)\n",
    "    ds = ds.shuffle(buffer_size=len(file_list))\n",
    "    # Map dataset to get images\n",
    "    ds = ds.map(X_y_images, num_parallel_calls=AUTOTUNE)\n",
    "    # Normalisation\n",
    "#    ds = ds.map(lambda x: x/255)\n",
    "    # Map for data augmentation\n",
    "    #ds = ds.map(image_augmentation_function, num_parallel_calls=5)\n",
    "    # Batching\n",
    "    ds = ds.batch(batch_size)\n",
    "    # Prefetch (use several resources at the same time)\n",
    "    ds = ds.prefetch(buffer_size=AUTOTUNE)\n",
    "    return ds"
   ]
  },
  {
   "cell_type": "code",
   "execution_count": 68,
   "id": "ec16c9fa",
   "metadata": {},
   "outputs": [
    {
     "data": {
      "text/plain": [
       "<PrefetchDataset element_spec=TensorSpec(shape=(None, None, None, None), dtype=tf.float32, name=None)>"
      ]
     },
     "execution_count": 68,
     "metadata": {},
     "output_type": "execute_result"
    }
   ],
   "source": [
    "create_dataset(train)"
   ]
  },
  {
   "cell_type": "markdown",
   "id": "bfdbccfc",
   "metadata": {},
   "source": [
    "# Create model"
   ]
  },
  {
   "cell_type": "markdown",
   "id": "9cefe1bf",
   "metadata": {},
   "source": [
    "## Data"
   ]
  },
  {
   "cell_type": "code",
   "execution_count": 69,
   "id": "5591e5c3",
   "metadata": {
    "scrolled": true
   },
   "outputs": [],
   "source": [
    "train_ds=create_dataset(train)\n",
    "test_ds=create_dataset(test)"
   ]
  },
  {
   "cell_type": "markdown",
   "id": "e2226154",
   "metadata": {},
   "source": [
    "## Model"
   ]
  },
  {
   "cell_type": "code",
   "execution_count": 85,
   "id": "5a213a47",
   "metadata": {},
   "outputs": [],
   "source": [
    "from tensorflow.keras import layers, Sequential, Input, Model"
   ]
  },
  {
   "cell_type": "code",
   "execution_count": 86,
   "id": "87809af9",
   "metadata": {},
   "outputs": [],
   "source": [
    "model_size = 2**5 # Chollet model_size = 2**6"
   ]
  },
  {
   "cell_type": "markdown",
   "id": "ee81a4bd",
   "metadata": {},
   "source": [
    "### Discriminator"
   ]
  },
  {
   "cell_type": "code",
   "execution_count": 87,
   "id": "40260fa1",
   "metadata": {},
   "outputs": [
    {
     "data": {
      "text/plain": [
       "(64, 64, 3)"
      ]
     },
     "execution_count": 87,
     "metadata": {},
     "output_type": "execute_result"
    }
   ],
   "source": [
    "input_shape = (image_size[0], image_size[1],3)\n",
    "input_shape"
   ]
  },
  {
   "cell_type": "code",
   "execution_count": 88,
   "id": "0a7061df",
   "metadata": {},
   "outputs": [],
   "source": [
    "discriminator = Sequential(\n",
    "    [\n",
    "    Input(shape=input_shape),\n",
    "    layers.Conv2D(model_size, kernel_size=4, strides=2, padding=\"same\"),\n",
    "    layers.LeakyReLU(alpha=0.2),\n",
    "    layers.Conv2D(model_size*2, kernel_size=4, strides=2, padding=\"same\"),\n",
    "    layers.LeakyReLU(alpha=0.2),\n",
    "    layers.Conv2D(model_size*2, kernel_size=4, strides=2, padding=\"same\"),\n",
    "    layers.LeakyReLU(alpha=0.2),\n",
    "    layers.Flatten(),\n",
    "    #layers.Dropout(0.2),\n",
    "    layers.Dense(1, activation=\"sigmoid\"),\n",
    "    ],\n",
    "    name=\"discriminator\",\n",
    ")"
   ]
  },
  {
   "cell_type": "code",
   "execution_count": 89,
   "id": "e5039382",
   "metadata": {},
   "outputs": [
    {
     "name": "stdout",
     "output_type": "stream",
     "text": [
      "Model: \"discriminator\"\n",
      "_________________________________________________________________\n",
      " Layer (type)                Output Shape              Param #   \n",
      "=================================================================\n",
      " conv2d_16 (Conv2D)          (None, 32, 32, 32)        1568      \n",
      "                                                                 \n",
      " leaky_re_lu_24 (LeakyReLU)  (None, 32, 32, 32)        0         \n",
      "                                                                 \n",
      " conv2d_17 (Conv2D)          (None, 16, 16, 64)        32832     \n",
      "                                                                 \n",
      " leaky_re_lu_25 (LeakyReLU)  (None, 16, 16, 64)        0         \n",
      "                                                                 \n",
      " conv2d_18 (Conv2D)          (None, 8, 8, 64)          65600     \n",
      "                                                                 \n",
      " leaky_re_lu_26 (LeakyReLU)  (None, 8, 8, 64)          0         \n",
      "                                                                 \n",
      " flatten_4 (Flatten)         (None, 4096)              0         \n",
      "                                                                 \n",
      " dense_8 (Dense)             (None, 1)                 4097      \n",
      "                                                                 \n",
      "=================================================================\n",
      "Total params: 104,097\n",
      "Trainable params: 104,097\n",
      "Non-trainable params: 0\n",
      "_________________________________________________________________\n"
     ]
    }
   ],
   "source": [
    "discriminator.summary()"
   ]
  },
  {
   "cell_type": "markdown",
   "id": "04be22ab",
   "metadata": {},
   "source": [
    "### Generator"
   ]
  },
  {
   "cell_type": "code",
   "execution_count": 90,
   "id": "e68299ec",
   "metadata": {},
   "outputs": [],
   "source": [
    "latent_dim = model_size * 2\n",
    "deeper_layer_size_param = image_size[0] * image_size[1] / 8 / 8"
   ]
  },
  {
   "cell_type": "code",
   "execution_count": 91,
   "id": "b3b79ddc",
   "metadata": {},
   "outputs": [],
   "source": [
    "generator = Sequential(\n",
    "    [\n",
    "    Input(shape=(latent_dim,)),\n",
    "    layers.Dense(deeper_layer_size_param * model_size*2),\n",
    "    layers.Reshape((int(image_size[0] / 8), int(image_size[1] / 8), model_size*2)),\n",
    "    layers.Conv2DTranspose(model_size*2, kernel_size=4, strides=2, padding=\"same\"),\n",
    "    layers.LeakyReLU(alpha=0.2),\n",
    "    layers.Conv2DTranspose(model_size*4, kernel_size=4, strides=2, padding=\"same\"),\n",
    "    layers.LeakyReLU(alpha=0.2),\n",
    "    layers.Conv2DTranspose(model_size*8, kernel_size=4, strides=2, padding=\"same\"),\n",
    "    layers.LeakyReLU(alpha=0.2),\n",
    "    layers.Conv2D(3, kernel_size=5, padding=\"same\", activation=\"sigmoid\"),\n",
    "    ],\n",
    "    name=\"generator\",\n",
    ")"
   ]
  },
  {
   "cell_type": "code",
   "execution_count": 92,
   "id": "ed4f18bc",
   "metadata": {},
   "outputs": [
    {
     "name": "stdout",
     "output_type": "stream",
     "text": [
      "Model: \"generator\"\n",
      "_________________________________________________________________\n",
      " Layer (type)                Output Shape              Param #   \n",
      "=================================================================\n",
      " dense_9 (Dense)             (None, 4096)              266240    \n",
      "                                                                 \n",
      " reshape_4 (Reshape)         (None, 8, 8, 64)          0         \n",
      "                                                                 \n",
      " conv2d_transpose_12 (Conv2D  (None, 16, 16, 64)       65600     \n",
      " Transpose)                                                      \n",
      "                                                                 \n",
      " leaky_re_lu_27 (LeakyReLU)  (None, 16, 16, 64)        0         \n",
      "                                                                 \n",
      " conv2d_transpose_13 (Conv2D  (None, 32, 32, 128)      131200    \n",
      " Transpose)                                                      \n",
      "                                                                 \n",
      " leaky_re_lu_28 (LeakyReLU)  (None, 32, 32, 128)       0         \n",
      "                                                                 \n",
      " conv2d_transpose_14 (Conv2D  (None, 64, 64, 256)      524544    \n",
      " Transpose)                                                      \n",
      "                                                                 \n",
      " leaky_re_lu_29 (LeakyReLU)  (None, 64, 64, 256)       0         \n",
      "                                                                 \n",
      " conv2d_19 (Conv2D)          (None, 64, 64, 3)         19203     \n",
      "                                                                 \n",
      "=================================================================\n",
      "Total params: 1,006,787\n",
      "Trainable params: 1,006,787\n",
      "Non-trainable params: 0\n",
      "_________________________________________________________________\n"
     ]
    }
   ],
   "source": [
    "generator.summary()"
   ]
  },
  {
   "cell_type": "markdown",
   "id": "25591ad4",
   "metadata": {},
   "source": [
    "### Gan model (class)"
   ]
  },
  {
   "cell_type": "code",
   "execution_count": 93,
   "id": "24762d41",
   "metadata": {},
   "outputs": [],
   "source": [
    "from tensorflow import shape as tf_shape\n",
    "from tensorflow.random import normal as tf_random_normal\n",
    "from tensorflow.random import uniform as tf_random_uniform\n",
    "from tensorflow import concat as tf_concat\n",
    "from tensorflow import ones as tf_ones\n",
    "from tensorflow import zeros as tf_zeros\n",
    "from tensorflow import GradientTape\n",
    "from tensorflow.keras.metrics import Mean as keras_mean\n",
    "from tensorflow.keras.optimizers import Adam"
   ]
  },
  {
   "cell_type": "code",
   "execution_count": 94,
   "id": "075bbbdb",
   "metadata": {},
   "outputs": [],
   "source": [
    "class GAN(Model):\n",
    "    def __init__(self, discriminator, generator, latent_dim):\n",
    "        super().__init__()\n",
    "        self.discriminator = discriminator\n",
    "        self.generator = generator\n",
    "        self.latent_dim = latent_dim\n",
    "        self.d_loss_metric = keras_mean(name=\"d_loss\")\n",
    "        self.g_loss_metric = keras_mean(name=\"g_loss\")\n",
    "    \n",
    "    def compile(self, d_optimizer, g_optimizer, loss_fn):\n",
    "        super(GAN, self).compile()\n",
    "        self.d_optimizer = d_optimizer\n",
    "        self.g_optimizer = g_optimizer\n",
    "        self.loss_fn = loss_fn\n",
    "    \n",
    "    @property\n",
    "    def metrics(self):\n",
    "        return [self.d_loss_metric, self.g_loss_metric]\n",
    "\n",
    "    def train_step(self, real_images):\n",
    "        batch_size = tf_shape(real_images)[0]\n",
    "        random_latent_vectors = tf_random_normal(\n",
    "            shape=(batch_size, self.latent_dim))\n",
    "        generated_images = self.generator(random_latent_vectors)\n",
    "        combined_images = tf_concat([generated_images, real_images], axis=0)\n",
    "        labels = tf_concat(\n",
    "            [tf_ones((batch_size, 1)), tf_zeros((batch_size, 1))],\n",
    "            axis=0\n",
    "        )\n",
    "        labels += 0.05 * tf_random_uniform(tf_shape(labels))\n",
    "        \n",
    "        with GradientTape() as tape:\n",
    "            predictions = self.discriminator(combined_images)\n",
    "            d_loss = self.loss_fn(labels, predictions)\n",
    "            grads = tape.gradient(d_loss, self.discriminator.trainable_weights)\n",
    "            self.d_optimizer.apply_gradients(\n",
    "                zip(grads, self.discriminator.trainable_weights)\n",
    "            )\n",
    "        \n",
    "        random_latent_vectors = tf_random_normal(\n",
    "            shape=(batch_size, self.latent_dim))\n",
    "        \n",
    "        misleading_labels = tf_zeros((batch_size, 1))\n",
    "        \n",
    "        with GradientTape() as tape:\n",
    "            predictions = self.discriminator(\n",
    "                self.generator(random_latent_vectors))\n",
    "            g_loss = self.loss_fn(misleading_labels, predictions)\n",
    "            grads = tape.gradient(g_loss, self.generator.trainable_weights)\n",
    "            self.g_optimizer.apply_gradients(\n",
    "                zip(grads, self.generator.trainable_weights))\n",
    "        \n",
    "        self.d_loss_metric.update_state(d_loss)\n",
    "        self.g_loss_metric.update_state(g_loss)\n",
    "        return {\"d_loss\": self.d_loss_metric.result(),\n",
    "            \"g_loss\": self.g_loss_metric.result()}"
   ]
  },
  {
   "cell_type": "markdown",
   "id": "b1313377",
   "metadata": {},
   "source": [
    "### Custom Callback (GAN Monitor class)"
   ]
  },
  {
   "cell_type": "code",
   "execution_count": 95,
   "id": "a121cdbc",
   "metadata": {},
   "outputs": [],
   "source": [
    "from tensorflow.keras.callbacks import Callback\n",
    "from tensorflow.keras.utils import array_to_img"
   ]
  },
  {
   "cell_type": "code",
   "execution_count": 96,
   "id": "56bc74e8",
   "metadata": {},
   "outputs": [],
   "source": [
    "class GANMonitor(Callback):\n",
    "    def __init__(self, num_img=3, latent_dim=128):\n",
    "        self.num_img = num_img\n",
    "        self.latent_dim = latent_dim\n",
    "        \n",
    "    def on_epoch_end(self, epoch, logs=None):\n",
    "        random_latent_vectors = tf_random_normal(\n",
    "        shape=(self.num_img, self.latent_dim))\n",
    "        generated_images = self.model.generator(random_latent_vectors)\n",
    "     #   generated_images *= 255\n",
    "        generated_images.numpy()\n",
    "        for i in range(self.num_img):\n",
    "            img = array_to_img(generated_images[i])\n",
    "            img.save(f\"GAN_gen_img/generated_img_{epoch:03d}_{i}.png\")"
   ]
  },
  {
   "cell_type": "markdown",
   "id": "8b044a1c",
   "metadata": {},
   "source": [
    "### GAN Model"
   ]
  },
  {
   "cell_type": "code",
   "execution_count": 97,
   "id": "ca53e999",
   "metadata": {},
   "outputs": [],
   "source": [
    "from tensorflow.keras.losses import BinaryCrossentropy"
   ]
  },
  {
   "cell_type": "code",
   "execution_count": 98,
   "id": "c19fa5c7",
   "metadata": {},
   "outputs": [
    {
     "name": "stdout",
     "output_type": "stream",
     "text": [
      "Epoch 1/50\n",
      "150/150 [==============================] - 210s 1s/step - d_loss: 0.6531 - g_loss: 0.7877\n",
      "Epoch 2/50\n",
      "150/150 [==============================] - 214s 1s/step - d_loss: 0.3924 - g_loss: 3.3736\n",
      "Epoch 3/50\n",
      "150/150 [==============================] - 214s 1s/step - d_loss: -0.0537 - g_loss: 32.0575\n",
      "Epoch 4/50\n",
      "150/150 [==============================] - 205s 1s/step - d_loss: -13.9214 - g_loss: 1224.5793\n",
      "Epoch 5/50\n",
      "150/150 [==============================] - 210s 1s/step - d_loss: 34.2303 - g_loss: 3190.3958\n",
      "Epoch 6/50\n",
      "150/150 [==============================] - 204s 1s/step - d_loss: -0.1023 - g_loss: 92.2065\n",
      "Epoch 7/50\n",
      "150/150 [==============================] - 203s 1s/step - d_loss: -0.8367 - g_loss: 120.7631\n",
      "Epoch 8/50\n",
      "150/150 [==============================] - 203s 1s/step - d_loss: -13.8050 - g_loss: 1198.2703\n",
      "Epoch 9/50\n",
      "150/150 [==============================] - 203s 1s/step - d_loss: -288.0000 - g_loss: 23669.3711\n",
      "Epoch 10/50\n",
      "150/150 [==============================] - 201s 1s/step - d_loss: -8330.0156 - g_loss: 679068.5000\n",
      "Epoch 11/50\n",
      "150/150 [==============================] - 200s 1s/step - d_loss: -42062.3125 - g_loss: 3410151.0000\n",
      "Epoch 12/50\n",
      "150/150 [==============================] - 201s 1s/step - d_loss: -32615.2402 - g_loss: 2714449.5000\n",
      "Epoch 13/50\n",
      "150/150 [==============================] - 201s 1s/step - d_loss: 1986.7327 - g_loss: 382036.6562\n",
      "Epoch 14/50\n",
      "150/150 [==============================] - 203s 1s/step - d_loss: -2497.9255 - g_loss: 516086.4688\n",
      "Epoch 15/50\n",
      "150/150 [==============================] - 200s 1s/step - d_loss: -6012.6377 - g_loss: 725847.6875\n",
      "Epoch 16/50\n",
      "150/150 [==============================] - 211s 1s/step - d_loss: 26319.8379 - g_loss: 83272.3750\n",
      "Epoch 17/50\n",
      "150/150 [==============================] - 213s 1s/step - d_loss: 31278.5742 - g_loss: 0.0000e+00\n",
      "Epoch 18/50\n",
      "150/150 [==============================] - 213s 1s/step - d_loss: 18136.1426 - g_loss: 0.0000e+00\n",
      "Epoch 19/50\n",
      "150/150 [==============================] - 202s 1s/step - d_loss: 10970.2012 - g_loss: 27.0695\n",
      "Epoch 20/50\n",
      "150/150 [==============================] - 195s 1s/step - d_loss: 5092.9277 - g_loss: 1406.7916\n",
      "Epoch 21/50\n",
      "150/150 [==============================] - 195s 1s/step - d_loss: 2660.1926 - g_loss: 3539.4509\n",
      "Epoch 22/50\n",
      "150/150 [==============================] - 196s 1s/step - d_loss: 1603.3159 - g_loss: 1766.3484\n",
      "Epoch 23/50\n",
      "150/150 [==============================] - 197s 1s/step - d_loss: 223.0974 - g_loss: 3582.0479\n",
      "Epoch 24/50\n",
      "150/150 [==============================] - 193s 1s/step - d_loss: 99.8332 - g_loss: 1990.9961\n",
      "Epoch 25/50\n",
      "150/150 [==============================] - 192s 1s/step - d_loss: 67.4228 - g_loss: 1167.6440\n",
      "Epoch 26/50\n",
      "150/150 [==============================] - 195s 1s/step - d_loss: 50.5508 - g_loss: 1542.0867\n",
      "Epoch 27/50\n",
      "150/150 [==============================] - 194s 1s/step - d_loss: 37.0055 - g_loss: 1937.5991\n",
      "Epoch 28/50\n",
      " 98/150 [==================>...........] - ETA: 1:08 - d_loss: 34.9856 - g_loss: 2152.8440"
     ]
    },
    {
     "ename": "KeyboardInterrupt",
     "evalue": "",
     "output_type": "error",
     "traceback": [
      "\u001b[0;31m---------------------------------------------------------------------------\u001b[0m",
      "\u001b[0;31mKeyboardInterrupt\u001b[0m                         Traceback (most recent call last)",
      "Input \u001b[0;32mIn [98]\u001b[0m, in \u001b[0;36m<cell line: 11>\u001b[0;34m()\u001b[0m\n\u001b[1;32m      2\u001b[0m gan \u001b[38;5;241m=\u001b[39m GAN(discriminator\u001b[38;5;241m=\u001b[39mdiscriminator, generator\u001b[38;5;241m=\u001b[39mgenerator,\n\u001b[1;32m      3\u001b[0m             latent_dim\u001b[38;5;241m=\u001b[39mlatent_dim)\n\u001b[1;32m      5\u001b[0m gan\u001b[38;5;241m.\u001b[39mcompile(\n\u001b[1;32m      6\u001b[0m     d_optimizer\u001b[38;5;241m=\u001b[39mAdam(learning_rate\u001b[38;5;241m=\u001b[39m\u001b[38;5;241m0.0001\u001b[39m),\n\u001b[1;32m      7\u001b[0m     g_optimizer\u001b[38;5;241m=\u001b[39mAdam(learning_rate\u001b[38;5;241m=\u001b[39m\u001b[38;5;241m0.002\u001b[39m),\n\u001b[1;32m      8\u001b[0m     loss_fn\u001b[38;5;241m=\u001b[39mBinaryCrossentropy(),\n\u001b[1;32m      9\u001b[0m )\n\u001b[0;32m---> 11\u001b[0m \u001b[43mgan\u001b[49m\u001b[38;5;241;43m.\u001b[39;49m\u001b[43mfit\u001b[49m\u001b[43m(\u001b[49m\n\u001b[1;32m     12\u001b[0m \u001b[43m    \u001b[49m\u001b[43mtrain_ds\u001b[49m\u001b[43m,\u001b[49m\u001b[43m \u001b[49m\u001b[43mepochs\u001b[49m\u001b[38;5;241;43m=\u001b[39;49m\u001b[43mepochs\u001b[49m\u001b[43m,\u001b[49m\n\u001b[1;32m     13\u001b[0m \u001b[43m    \u001b[49m\u001b[43mcallbacks\u001b[49m\u001b[38;5;241;43m=\u001b[39;49m\u001b[43m[\u001b[49m\u001b[43mGANMonitor\u001b[49m\u001b[43m(\u001b[49m\u001b[43mnum_img\u001b[49m\u001b[38;5;241;43m=\u001b[39;49m\u001b[38;5;241;43m3\u001b[39;49m\u001b[43m,\u001b[49m\u001b[43m \u001b[49m\u001b[43mlatent_dim\u001b[49m\u001b[38;5;241;43m=\u001b[39;49m\u001b[43mlatent_dim\u001b[49m\u001b[43m)\u001b[49m\u001b[43m]\u001b[49m\n\u001b[1;32m     14\u001b[0m \u001b[43m)\u001b[49m\n",
      "File \u001b[0;32m~/.pyenv/versions/3.8.12/envs/icangetyoursmile/lib/python3.8/site-packages/keras/utils/traceback_utils.py:64\u001b[0m, in \u001b[0;36mfilter_traceback.<locals>.error_handler\u001b[0;34m(*args, **kwargs)\u001b[0m\n\u001b[1;32m     62\u001b[0m filtered_tb \u001b[38;5;241m=\u001b[39m \u001b[38;5;28;01mNone\u001b[39;00m\n\u001b[1;32m     63\u001b[0m \u001b[38;5;28;01mtry\u001b[39;00m:\n\u001b[0;32m---> 64\u001b[0m   \u001b[38;5;28;01mreturn\u001b[39;00m \u001b[43mfn\u001b[49m\u001b[43m(\u001b[49m\u001b[38;5;241;43m*\u001b[39;49m\u001b[43margs\u001b[49m\u001b[43m,\u001b[49m\u001b[43m \u001b[49m\u001b[38;5;241;43m*\u001b[39;49m\u001b[38;5;241;43m*\u001b[39;49m\u001b[43mkwargs\u001b[49m\u001b[43m)\u001b[49m\n\u001b[1;32m     65\u001b[0m \u001b[38;5;28;01mexcept\u001b[39;00m \u001b[38;5;167;01mException\u001b[39;00m \u001b[38;5;28;01mas\u001b[39;00m e:  \u001b[38;5;66;03m# pylint: disable=broad-except\u001b[39;00m\n\u001b[1;32m     66\u001b[0m   filtered_tb \u001b[38;5;241m=\u001b[39m _process_traceback_frames(e\u001b[38;5;241m.\u001b[39m__traceback__)\n",
      "File \u001b[0;32m~/.pyenv/versions/3.8.12/envs/icangetyoursmile/lib/python3.8/site-packages/keras/engine/training.py:1384\u001b[0m, in \u001b[0;36mModel.fit\u001b[0;34m(self, x, y, batch_size, epochs, verbose, callbacks, validation_split, validation_data, shuffle, class_weight, sample_weight, initial_epoch, steps_per_epoch, validation_steps, validation_batch_size, validation_freq, max_queue_size, workers, use_multiprocessing)\u001b[0m\n\u001b[1;32m   1377\u001b[0m \u001b[38;5;28;01mwith\u001b[39;00m tf\u001b[38;5;241m.\u001b[39mprofiler\u001b[38;5;241m.\u001b[39mexperimental\u001b[38;5;241m.\u001b[39mTrace(\n\u001b[1;32m   1378\u001b[0m     \u001b[38;5;124m'\u001b[39m\u001b[38;5;124mtrain\u001b[39m\u001b[38;5;124m'\u001b[39m,\n\u001b[1;32m   1379\u001b[0m     epoch_num\u001b[38;5;241m=\u001b[39mepoch,\n\u001b[1;32m   1380\u001b[0m     step_num\u001b[38;5;241m=\u001b[39mstep,\n\u001b[1;32m   1381\u001b[0m     batch_size\u001b[38;5;241m=\u001b[39mbatch_size,\n\u001b[1;32m   1382\u001b[0m     _r\u001b[38;5;241m=\u001b[39m\u001b[38;5;241m1\u001b[39m):\n\u001b[1;32m   1383\u001b[0m   callbacks\u001b[38;5;241m.\u001b[39mon_train_batch_begin(step)\n\u001b[0;32m-> 1384\u001b[0m   tmp_logs \u001b[38;5;241m=\u001b[39m \u001b[38;5;28;43mself\u001b[39;49m\u001b[38;5;241;43m.\u001b[39;49m\u001b[43mtrain_function\u001b[49m\u001b[43m(\u001b[49m\u001b[43miterator\u001b[49m\u001b[43m)\u001b[49m\n\u001b[1;32m   1385\u001b[0m   \u001b[38;5;28;01mif\u001b[39;00m data_handler\u001b[38;5;241m.\u001b[39mshould_sync:\n\u001b[1;32m   1386\u001b[0m     context\u001b[38;5;241m.\u001b[39masync_wait()\n",
      "File \u001b[0;32m~/.pyenv/versions/3.8.12/envs/icangetyoursmile/lib/python3.8/site-packages/tensorflow/python/util/traceback_utils.py:150\u001b[0m, in \u001b[0;36mfilter_traceback.<locals>.error_handler\u001b[0;34m(*args, **kwargs)\u001b[0m\n\u001b[1;32m    148\u001b[0m filtered_tb \u001b[38;5;241m=\u001b[39m \u001b[38;5;28;01mNone\u001b[39;00m\n\u001b[1;32m    149\u001b[0m \u001b[38;5;28;01mtry\u001b[39;00m:\n\u001b[0;32m--> 150\u001b[0m   \u001b[38;5;28;01mreturn\u001b[39;00m \u001b[43mfn\u001b[49m\u001b[43m(\u001b[49m\u001b[38;5;241;43m*\u001b[39;49m\u001b[43margs\u001b[49m\u001b[43m,\u001b[49m\u001b[43m \u001b[49m\u001b[38;5;241;43m*\u001b[39;49m\u001b[38;5;241;43m*\u001b[39;49m\u001b[43mkwargs\u001b[49m\u001b[43m)\u001b[49m\n\u001b[1;32m    151\u001b[0m \u001b[38;5;28;01mexcept\u001b[39;00m \u001b[38;5;167;01mException\u001b[39;00m \u001b[38;5;28;01mas\u001b[39;00m e:\n\u001b[1;32m    152\u001b[0m   filtered_tb \u001b[38;5;241m=\u001b[39m _process_traceback_frames(e\u001b[38;5;241m.\u001b[39m__traceback__)\n",
      "File \u001b[0;32m~/.pyenv/versions/3.8.12/envs/icangetyoursmile/lib/python3.8/site-packages/tensorflow/python/eager/def_function.py:915\u001b[0m, in \u001b[0;36mFunction.__call__\u001b[0;34m(self, *args, **kwds)\u001b[0m\n\u001b[1;32m    912\u001b[0m compiler \u001b[38;5;241m=\u001b[39m \u001b[38;5;124m\"\u001b[39m\u001b[38;5;124mxla\u001b[39m\u001b[38;5;124m\"\u001b[39m \u001b[38;5;28;01mif\u001b[39;00m \u001b[38;5;28mself\u001b[39m\u001b[38;5;241m.\u001b[39m_jit_compile \u001b[38;5;28;01melse\u001b[39;00m \u001b[38;5;124m\"\u001b[39m\u001b[38;5;124mnonXla\u001b[39m\u001b[38;5;124m\"\u001b[39m\n\u001b[1;32m    914\u001b[0m \u001b[38;5;28;01mwith\u001b[39;00m OptionalXlaContext(\u001b[38;5;28mself\u001b[39m\u001b[38;5;241m.\u001b[39m_jit_compile):\n\u001b[0;32m--> 915\u001b[0m   result \u001b[38;5;241m=\u001b[39m \u001b[38;5;28;43mself\u001b[39;49m\u001b[38;5;241;43m.\u001b[39;49m\u001b[43m_call\u001b[49m\u001b[43m(\u001b[49m\u001b[38;5;241;43m*\u001b[39;49m\u001b[43margs\u001b[49m\u001b[43m,\u001b[49m\u001b[43m \u001b[49m\u001b[38;5;241;43m*\u001b[39;49m\u001b[38;5;241;43m*\u001b[39;49m\u001b[43mkwds\u001b[49m\u001b[43m)\u001b[49m\n\u001b[1;32m    917\u001b[0m new_tracing_count \u001b[38;5;241m=\u001b[39m \u001b[38;5;28mself\u001b[39m\u001b[38;5;241m.\u001b[39mexperimental_get_tracing_count()\n\u001b[1;32m    918\u001b[0m without_tracing \u001b[38;5;241m=\u001b[39m (tracing_count \u001b[38;5;241m==\u001b[39m new_tracing_count)\n",
      "File \u001b[0;32m~/.pyenv/versions/3.8.12/envs/icangetyoursmile/lib/python3.8/site-packages/tensorflow/python/eager/def_function.py:947\u001b[0m, in \u001b[0;36mFunction._call\u001b[0;34m(self, *args, **kwds)\u001b[0m\n\u001b[1;32m    944\u001b[0m   \u001b[38;5;28mself\u001b[39m\u001b[38;5;241m.\u001b[39m_lock\u001b[38;5;241m.\u001b[39mrelease()\n\u001b[1;32m    945\u001b[0m   \u001b[38;5;66;03m# In this case we have created variables on the first call, so we run the\u001b[39;00m\n\u001b[1;32m    946\u001b[0m   \u001b[38;5;66;03m# defunned version which is guaranteed to never create variables.\u001b[39;00m\n\u001b[0;32m--> 947\u001b[0m   \u001b[38;5;28;01mreturn\u001b[39;00m \u001b[38;5;28;43mself\u001b[39;49m\u001b[38;5;241;43m.\u001b[39;49m\u001b[43m_stateless_fn\u001b[49m\u001b[43m(\u001b[49m\u001b[38;5;241;43m*\u001b[39;49m\u001b[43margs\u001b[49m\u001b[43m,\u001b[49m\u001b[43m \u001b[49m\u001b[38;5;241;43m*\u001b[39;49m\u001b[38;5;241;43m*\u001b[39;49m\u001b[43mkwds\u001b[49m\u001b[43m)\u001b[49m  \u001b[38;5;66;03m# pylint: disable=not-callable\u001b[39;00m\n\u001b[1;32m    948\u001b[0m \u001b[38;5;28;01melif\u001b[39;00m \u001b[38;5;28mself\u001b[39m\u001b[38;5;241m.\u001b[39m_stateful_fn \u001b[38;5;129;01mis\u001b[39;00m \u001b[38;5;129;01mnot\u001b[39;00m \u001b[38;5;28;01mNone\u001b[39;00m:\n\u001b[1;32m    949\u001b[0m   \u001b[38;5;66;03m# Release the lock early so that multiple threads can perform the call\u001b[39;00m\n\u001b[1;32m    950\u001b[0m   \u001b[38;5;66;03m# in parallel.\u001b[39;00m\n\u001b[1;32m    951\u001b[0m   \u001b[38;5;28mself\u001b[39m\u001b[38;5;241m.\u001b[39m_lock\u001b[38;5;241m.\u001b[39mrelease()\n",
      "File \u001b[0;32m~/.pyenv/versions/3.8.12/envs/icangetyoursmile/lib/python3.8/site-packages/tensorflow/python/eager/function.py:2956\u001b[0m, in \u001b[0;36mFunction.__call__\u001b[0;34m(self, *args, **kwargs)\u001b[0m\n\u001b[1;32m   2953\u001b[0m \u001b[38;5;28;01mwith\u001b[39;00m \u001b[38;5;28mself\u001b[39m\u001b[38;5;241m.\u001b[39m_lock:\n\u001b[1;32m   2954\u001b[0m   (graph_function,\n\u001b[1;32m   2955\u001b[0m    filtered_flat_args) \u001b[38;5;241m=\u001b[39m \u001b[38;5;28mself\u001b[39m\u001b[38;5;241m.\u001b[39m_maybe_define_function(args, kwargs)\n\u001b[0;32m-> 2956\u001b[0m \u001b[38;5;28;01mreturn\u001b[39;00m \u001b[43mgraph_function\u001b[49m\u001b[38;5;241;43m.\u001b[39;49m\u001b[43m_call_flat\u001b[49m\u001b[43m(\u001b[49m\n\u001b[1;32m   2957\u001b[0m \u001b[43m    \u001b[49m\u001b[43mfiltered_flat_args\u001b[49m\u001b[43m,\u001b[49m\u001b[43m \u001b[49m\u001b[43mcaptured_inputs\u001b[49m\u001b[38;5;241;43m=\u001b[39;49m\u001b[43mgraph_function\u001b[49m\u001b[38;5;241;43m.\u001b[39;49m\u001b[43mcaptured_inputs\u001b[49m\u001b[43m)\u001b[49m\n",
      "File \u001b[0;32m~/.pyenv/versions/3.8.12/envs/icangetyoursmile/lib/python3.8/site-packages/tensorflow/python/eager/function.py:1853\u001b[0m, in \u001b[0;36mConcreteFunction._call_flat\u001b[0;34m(self, args, captured_inputs, cancellation_manager)\u001b[0m\n\u001b[1;32m   1849\u001b[0m possible_gradient_type \u001b[38;5;241m=\u001b[39m gradients_util\u001b[38;5;241m.\u001b[39mPossibleTapeGradientTypes(args)\n\u001b[1;32m   1850\u001b[0m \u001b[38;5;28;01mif\u001b[39;00m (possible_gradient_type \u001b[38;5;241m==\u001b[39m gradients_util\u001b[38;5;241m.\u001b[39mPOSSIBLE_GRADIENT_TYPES_NONE\n\u001b[1;32m   1851\u001b[0m     \u001b[38;5;129;01mand\u001b[39;00m executing_eagerly):\n\u001b[1;32m   1852\u001b[0m   \u001b[38;5;66;03m# No tape is watching; skip to running the function.\u001b[39;00m\n\u001b[0;32m-> 1853\u001b[0m   \u001b[38;5;28;01mreturn\u001b[39;00m \u001b[38;5;28mself\u001b[39m\u001b[38;5;241m.\u001b[39m_build_call_outputs(\u001b[38;5;28;43mself\u001b[39;49m\u001b[38;5;241;43m.\u001b[39;49m\u001b[43m_inference_function\u001b[49m\u001b[38;5;241;43m.\u001b[39;49m\u001b[43mcall\u001b[49m\u001b[43m(\u001b[49m\n\u001b[1;32m   1854\u001b[0m \u001b[43m      \u001b[49m\u001b[43mctx\u001b[49m\u001b[43m,\u001b[49m\u001b[43m \u001b[49m\u001b[43margs\u001b[49m\u001b[43m,\u001b[49m\u001b[43m \u001b[49m\u001b[43mcancellation_manager\u001b[49m\u001b[38;5;241;43m=\u001b[39;49m\u001b[43mcancellation_manager\u001b[49m\u001b[43m)\u001b[49m)\n\u001b[1;32m   1855\u001b[0m forward_backward \u001b[38;5;241m=\u001b[39m \u001b[38;5;28mself\u001b[39m\u001b[38;5;241m.\u001b[39m_select_forward_and_backward_functions(\n\u001b[1;32m   1856\u001b[0m     args,\n\u001b[1;32m   1857\u001b[0m     possible_gradient_type,\n\u001b[1;32m   1858\u001b[0m     executing_eagerly)\n\u001b[1;32m   1859\u001b[0m forward_function, args_with_tangents \u001b[38;5;241m=\u001b[39m forward_backward\u001b[38;5;241m.\u001b[39mforward()\n",
      "File \u001b[0;32m~/.pyenv/versions/3.8.12/envs/icangetyoursmile/lib/python3.8/site-packages/tensorflow/python/eager/function.py:499\u001b[0m, in \u001b[0;36m_EagerDefinedFunction.call\u001b[0;34m(self, ctx, args, cancellation_manager)\u001b[0m\n\u001b[1;32m    497\u001b[0m \u001b[38;5;28;01mwith\u001b[39;00m _InterpolateFunctionError(\u001b[38;5;28mself\u001b[39m):\n\u001b[1;32m    498\u001b[0m   \u001b[38;5;28;01mif\u001b[39;00m cancellation_manager \u001b[38;5;129;01mis\u001b[39;00m \u001b[38;5;28;01mNone\u001b[39;00m:\n\u001b[0;32m--> 499\u001b[0m     outputs \u001b[38;5;241m=\u001b[39m \u001b[43mexecute\u001b[49m\u001b[38;5;241;43m.\u001b[39;49m\u001b[43mexecute\u001b[49m\u001b[43m(\u001b[49m\n\u001b[1;32m    500\u001b[0m \u001b[43m        \u001b[49m\u001b[38;5;28;43mstr\u001b[39;49m\u001b[43m(\u001b[49m\u001b[38;5;28;43mself\u001b[39;49m\u001b[38;5;241;43m.\u001b[39;49m\u001b[43msignature\u001b[49m\u001b[38;5;241;43m.\u001b[39;49m\u001b[43mname\u001b[49m\u001b[43m)\u001b[49m\u001b[43m,\u001b[49m\n\u001b[1;32m    501\u001b[0m \u001b[43m        \u001b[49m\u001b[43mnum_outputs\u001b[49m\u001b[38;5;241;43m=\u001b[39;49m\u001b[38;5;28;43mself\u001b[39;49m\u001b[38;5;241;43m.\u001b[39;49m\u001b[43m_num_outputs\u001b[49m\u001b[43m,\u001b[49m\n\u001b[1;32m    502\u001b[0m \u001b[43m        \u001b[49m\u001b[43minputs\u001b[49m\u001b[38;5;241;43m=\u001b[39;49m\u001b[43margs\u001b[49m\u001b[43m,\u001b[49m\n\u001b[1;32m    503\u001b[0m \u001b[43m        \u001b[49m\u001b[43mattrs\u001b[49m\u001b[38;5;241;43m=\u001b[39;49m\u001b[43mattrs\u001b[49m\u001b[43m,\u001b[49m\n\u001b[1;32m    504\u001b[0m \u001b[43m        \u001b[49m\u001b[43mctx\u001b[49m\u001b[38;5;241;43m=\u001b[39;49m\u001b[43mctx\u001b[49m\u001b[43m)\u001b[49m\n\u001b[1;32m    505\u001b[0m   \u001b[38;5;28;01melse\u001b[39;00m:\n\u001b[1;32m    506\u001b[0m     outputs \u001b[38;5;241m=\u001b[39m execute\u001b[38;5;241m.\u001b[39mexecute_with_cancellation(\n\u001b[1;32m    507\u001b[0m         \u001b[38;5;28mstr\u001b[39m(\u001b[38;5;28mself\u001b[39m\u001b[38;5;241m.\u001b[39msignature\u001b[38;5;241m.\u001b[39mname),\n\u001b[1;32m    508\u001b[0m         num_outputs\u001b[38;5;241m=\u001b[39m\u001b[38;5;28mself\u001b[39m\u001b[38;5;241m.\u001b[39m_num_outputs,\n\u001b[0;32m   (...)\u001b[0m\n\u001b[1;32m    511\u001b[0m         ctx\u001b[38;5;241m=\u001b[39mctx,\n\u001b[1;32m    512\u001b[0m         cancellation_manager\u001b[38;5;241m=\u001b[39mcancellation_manager)\n",
      "File \u001b[0;32m~/.pyenv/versions/3.8.12/envs/icangetyoursmile/lib/python3.8/site-packages/tensorflow/python/eager/execute.py:54\u001b[0m, in \u001b[0;36mquick_execute\u001b[0;34m(op_name, num_outputs, inputs, attrs, ctx, name)\u001b[0m\n\u001b[1;32m     52\u001b[0m \u001b[38;5;28;01mtry\u001b[39;00m:\n\u001b[1;32m     53\u001b[0m   ctx\u001b[38;5;241m.\u001b[39mensure_initialized()\n\u001b[0;32m---> 54\u001b[0m   tensors \u001b[38;5;241m=\u001b[39m \u001b[43mpywrap_tfe\u001b[49m\u001b[38;5;241;43m.\u001b[39;49m\u001b[43mTFE_Py_Execute\u001b[49m\u001b[43m(\u001b[49m\u001b[43mctx\u001b[49m\u001b[38;5;241;43m.\u001b[39;49m\u001b[43m_handle\u001b[49m\u001b[43m,\u001b[49m\u001b[43m \u001b[49m\u001b[43mdevice_name\u001b[49m\u001b[43m,\u001b[49m\u001b[43m \u001b[49m\u001b[43mop_name\u001b[49m\u001b[43m,\u001b[49m\n\u001b[1;32m     55\u001b[0m \u001b[43m                                      \u001b[49m\u001b[43minputs\u001b[49m\u001b[43m,\u001b[49m\u001b[43m \u001b[49m\u001b[43mattrs\u001b[49m\u001b[43m,\u001b[49m\u001b[43m \u001b[49m\u001b[43mnum_outputs\u001b[49m\u001b[43m)\u001b[49m\n\u001b[1;32m     56\u001b[0m \u001b[38;5;28;01mexcept\u001b[39;00m core\u001b[38;5;241m.\u001b[39m_NotOkStatusException \u001b[38;5;28;01mas\u001b[39;00m e:\n\u001b[1;32m     57\u001b[0m   \u001b[38;5;28;01mif\u001b[39;00m name \u001b[38;5;129;01mis\u001b[39;00m \u001b[38;5;129;01mnot\u001b[39;00m \u001b[38;5;28;01mNone\u001b[39;00m:\n",
      "\u001b[0;31mKeyboardInterrupt\u001b[0m: "
     ]
    }
   ],
   "source": [
    "epochs = 50\n",
    "gan = GAN(discriminator=discriminator, generator=generator,\n",
    "            latent_dim=latent_dim)\n",
    "\n",
    "gan.compile(\n",
    "    d_optimizer=Adam(learning_rate=0.0001),\n",
    "    g_optimizer=Adam(learning_rate=0.002),\n",
    "    loss_fn=BinaryCrossentropy(),\n",
    ")\n",
    "\n",
    "gan.fit(\n",
    "    train_ds, epochs=epochs,\n",
    "    callbacks=[GANMonitor(num_img=3, latent_dim=latent_dim)]\n",
    ")"
   ]
  },
  {
   "cell_type": "code",
   "execution_count": null,
   "id": "ecdbb89f",
   "metadata": {},
   "outputs": [],
   "source": []
  },
  {
   "cell_type": "code",
   "execution_count": null,
   "id": "c75859ee",
   "metadata": {},
   "outputs": [],
   "source": []
  },
  {
   "cell_type": "code",
   "execution_count": null,
   "id": "c6b84246",
   "metadata": {},
   "outputs": [],
   "source": []
  }
 ],
 "metadata": {
  "kernelspec": {
   "display_name": "Python 3 (ipykernel)",
   "language": "python",
   "name": "python3"
  },
  "language_info": {
   "codemirror_mode": {
    "name": "ipython",
    "version": 3
   },
   "file_extension": ".py",
   "mimetype": "text/x-python",
   "name": "python",
   "nbconvert_exporter": "python",
   "pygments_lexer": "ipython3",
   "version": "3.8.12"
  },
  "toc": {
   "base_numbering": 1,
   "nav_menu": {},
   "number_sections": true,
   "sideBar": true,
   "skip_h1_title": false,
   "title_cell": "Table of Contents",
   "title_sidebar": "Contents",
   "toc_cell": false,
   "toc_position": {},
   "toc_section_display": true,
   "toc_window_display": false
  }
 },
 "nbformat": 4,
 "nbformat_minor": 5
}

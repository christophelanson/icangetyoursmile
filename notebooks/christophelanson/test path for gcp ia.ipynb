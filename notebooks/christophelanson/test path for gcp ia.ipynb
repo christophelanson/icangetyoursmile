{
 "cells": [
  {
   "cell_type": "code",
   "execution_count": 3,
   "id": "aa488314",
   "metadata": {},
   "outputs": [],
   "source": [
    "%load_ext autoreload\n",
    "%autoreload 2"
   ]
  },
  {
   "cell_type": "code",
   "execution_count": 4,
   "id": "2feda29b",
   "metadata": {},
   "outputs": [],
   "source": [
    "import glob\n",
    "import os"
   ]
  },
  {
   "cell_type": "code",
   "execution_count": 7,
   "id": "c96fae16",
   "metadata": {},
   "outputs": [],
   "source": [
    "test_path = '/home/christophelanson/code/christophelanson/icangetyoursmile/notebooks/christophelanson/saved_models'"
   ]
  },
  {
   "cell_type": "code",
   "execution_count": 8,
   "id": "a8297260",
   "metadata": {},
   "outputs": [
    {
     "data": {
      "text/plain": [
       "['U-net-christophe']"
      ]
     },
     "execution_count": 8,
     "metadata": {},
     "output_type": "execute_result"
    }
   ],
   "source": [
    "my_list = os.listdir(test_path)\n",
    "my_list"
   ]
  },
  {
   "cell_type": "code",
   "execution_count": 19,
   "id": "28b7eb24",
   "metadata": {},
   "outputs": [
    {
     "name": "stdout",
     "output_type": "stream",
     "text": [
      "FILE /home/christophelanson/code/christophelanson/icangetyoursmile/notebooks/christophelanson/saved_models/U-net-christophe/variables/variables.index\n",
      "FILE- /saved_models/U-net-christophe/variables/variables.index\n",
      "FILE /home/christophelanson/code/christophelanson/icangetyoursmile/notebooks/christophelanson/saved_models/U-net-christophe/variables/variables.data-00000-of-00001\n",
      "FILE- /saved_models/U-net-christophe/variables/variables.data-00000-of-00001\n",
      "FILE /home/christophelanson/code/christophelanson/icangetyoursmile/notebooks/christophelanson/saved_models/U-net-christophe/keras_metadata.pb\n",
      "FILE- /saved_models/U-net-christophe/keras_metadata.pb\n",
      "FILE /home/christophelanson/code/christophelanson/icangetyoursmile/notebooks/christophelanson/saved_models/U-net-christophe/saved_model.pb\n",
      "FILE- /saved_models/U-net-christophe/saved_model.pb\n",
      "DIR /home/christophelanson/code/christophelanson/icangetyoursmile/notebooks/christophelanson/saved_models/U-net-christophe/assets\n",
      "DIR- assets\n",
      "DIR /home/christophelanson/code/christophelanson/icangetyoursmile/notebooks/christophelanson/saved_models/U-net-christophe/variables\n",
      "DIR- variables\n",
      "DIR /home/christophelanson/code/christophelanson/icangetyoursmile/notebooks/christophelanson/saved_models/U-net-christophe\n",
      "DIR- U-net-christophe\n"
     ]
    }
   ],
   "source": [
    "for root, directories, files in os.walk(test_path, topdown=False):\n",
    "    for name in files:\n",
    "        \n",
    "        curwd = os.getcwd()\n",
    "        full_name = os.path.join(root.replace(curwd,\"\"), name)\n",
    "               \n",
    "        print('FILE',os.path.join(root, name))\n",
    "        print('FILE-', full_name)\n",
    "    for name in directories:\n",
    "        print('DIR',os.path.join(root, name))\n",
    "        print('DIR-', name)"
   ]
  },
  {
   "cell_type": "code",
   "execution_count": 10,
   "id": "a0364626",
   "metadata": {},
   "outputs": [
    {
     "name": "stdout",
     "output_type": "stream",
     "text": [
      "DIR assets\n",
      "FILE ['assets', 'variables']/U-net-christophe\n",
      "FILE ['assets', 'variables']/U-net-christophe\n",
      "DIR variables\n",
      "FILE ['assets', 'variables']/U-net-christophe\n",
      "FILE ['assets', 'variables']/U-net-christophe\n",
      "DIR U-net-christophe\n"
     ]
    }
   ],
   "source": [
    "for root, directories, files in os.walk(test_path, topdown=False):\n",
    "    for dname in directories:\n",
    "        print('DIR', dname)\n",
    "        for fname in files:\n",
    "            print('FILE',f'{directories}/{name}')\n",
    "    "
   ]
  },
  {
   "cell_type": "code",
   "execution_count": 16,
   "id": "5681b65c",
   "metadata": {},
   "outputs": [],
   "source": [
    "test_path2 = '/home/christophelanson/code/christophelanson/icangetyoursmile/saved_models/'"
   ]
  },
  {
   "cell_type": "code",
   "execution_count": null,
   "id": "714c94eb",
   "metadata": {},
   "outputs": [],
   "source": []
  }
 ],
 "metadata": {
  "kernelspec": {
   "display_name": "Python 3 (ipykernel)",
   "language": "python",
   "name": "python3"
  },
  "language_info": {
   "codemirror_mode": {
    "name": "ipython",
    "version": 3
   },
   "file_extension": ".py",
   "mimetype": "text/x-python",
   "name": "python",
   "nbconvert_exporter": "python",
   "pygments_lexer": "ipython3",
   "version": "3.8.12"
  },
  "toc": {
   "base_numbering": 1,
   "nav_menu": {},
   "number_sections": true,
   "sideBar": true,
   "skip_h1_title": false,
   "title_cell": "Table of Contents",
   "title_sidebar": "Contents",
   "toc_cell": false,
   "toc_position": {},
   "toc_section_display": true,
   "toc_window_display": false
  }
 },
 "nbformat": 4,
 "nbformat_minor": 5
}

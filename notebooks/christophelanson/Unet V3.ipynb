{
 "cells": [
  {
   "cell_type": "code",
   "execution_count": 1,
   "id": "763b784e",
   "metadata": {},
   "outputs": [],
   "source": [
    "%load_ext autoreload\n",
    "%autoreload 2"
   ]
  },
  {
   "cell_type": "code",
   "execution_count": 17,
   "id": "f1a92741",
   "metadata": {},
   "outputs": [],
   "source": [
    "import numpy as np\n",
    "import os\n",
    "from PIL import Image\n",
    "import matplotlib.pyplot as plt\n",
    "from tensorflow.keras import layers, Sequential\n",
    "import random"
   ]
  },
  {
   "cell_type": "code",
   "execution_count": 36,
   "id": "764947a4",
   "metadata": {},
   "outputs": [],
   "source": [
    "from icangetyoursmile.trainer import run_full_model, upload_model_to_gcp"
   ]
  },
  {
   "cell_type": "code",
   "execution_count": null,
   "id": "be6f6c15",
   "metadata": {},
   "outputs": [
    {
     "name": "stdout",
     "output_type": "stream",
     "text": [
      "Connecting to gcp..\n",
      "loading data  0926\n",
      "loading data  1500\n",
      "loading data  1390\n",
      "loading data  5915\n",
      "loading data  2770\n",
      "loading data  5048\n",
      "loading data  4121\n",
      "loading data  9927\n",
      "loading data  3476\n",
      "loading data  9941\n",
      "loading data  0585\n",
      "loading data  9522\n",
      "loading data  2594\n",
      "loading data  7056\n",
      "loading data  6447\n",
      "loading data  8340\n",
      "loading data  6095\n",
      "loading data  8915\n",
      "loading data  7288\n",
      "loading data  8225\n",
      "loading data  4394\n",
      "loading data  0588\n",
      "loading data  0449\n",
      "loading data  5964\n",
      "loading data  7616\n",
      "loading data  5217\n",
      "loading data  6226\n",
      "loading data  6940\n",
      "loading data  8613\n",
      "loading data  2694\n",
      "loading data  8613\n",
      "loading data  5217\n",
      "loading data  2694\n",
      "loading data  7616\n",
      "loading data  6226\n",
      "Done\n",
      "X shape : (24, 64, 64, 3)\n",
      "y shape : (24, 64, 64, 3)\n",
      "X_test shape : (6, 64, 64, 3)\n",
      "y_test shape : (6, 64, 64, 3)\n",
      "X_visu shape : (5, 64, 64, 3)\n",
      "y_visu shape : (5, 64, 64, 3)\n",
      "Epoch 1/5\n",
      "3/3 [==============================] - ETA: 0s - loss: 44354.7969WARNING:tensorflow:5 out of the last 5 calls to <function Model.make_predict_function.<locals>.predict_function at 0x7f0c6a3a1af0> triggered tf.function retracing. Tracing is expensive and the excessive number of tracings could be due to (1) creating @tf.function repeatedly in a loop, (2) passing tensors with different shapes, (3) passing Python objects instead of tensors. For (1), please define your @tf.function outside of the loop. For (2), @tf.function has experimental_relax_shapes=True option that relaxes argument shapes that can avoid unnecessary retracing. For (3), please refer to https://www.tensorflow.org/guide/function#controlling_retracing and https://www.tensorflow.org/api_docs/python/tf/function for  more details.\n",
      " End epoch 0, saved predictions  \n",
      "3/3 [==============================] - 2s 309ms/step - loss: 44354.7969 - val_loss: 30101.8945\n",
      "Epoch 2/5\n",
      "3/3 [==============================] - 0s 101ms/step - loss: 29090.7246 - val_loss: 24534.7031\n",
      "Epoch 3/5\n",
      "3/3 [==============================] - 0s 91ms/step - loss: 23725.0781 - val_loss: 20719.0566\n",
      "Epoch 4/5\n",
      "3/3 [==============================] - 0s 82ms/step - loss: 20625.1875 - val_loss: 19220.0195\n",
      "Epoch 5/5\n",
      "3/3 [==============================] - 0s 68ms/step - loss: 19060.9238 - val_loss: 18461.3750\n"
     ]
    }
   ],
   "source": [
    "model_name = 'U-net-christophe'\n",
    "run_locally = False\n",
    "path_to_data = None # for notebook use None, else gcp path to data\n",
    "run_full_model(model_name, run_locally=run_locally, unet_power=3, sample_size=30,\n",
    "               epochs=5, image_size=(64,64), random_seed=2,\n",
    "               test_split=0.2, batch_size=8, validation_split=0.2)\n",
    "upload_model_to_gcp(model_name, run_locally=run_locally)"
   ]
  },
  {
   "cell_type": "code",
   "execution_count": null,
   "id": "8af2efe3",
   "metadata": {},
   "outputs": [],
   "source": []
  },
  {
   "cell_type": "code",
   "execution_count": 28,
   "id": "dc0bafbf",
   "metadata": {
    "scrolled": true
   },
   "outputs": [],
   "source": [
    "import pickle\n",
    "with open(f'./image_logs/{model_name}.pickle', 'rb') as handle:\n",
    "    image_log = pickle.load(handle)"
   ]
  },
  {
   "cell_type": "code",
   "execution_count": 29,
   "id": "15dc4e7a",
   "metadata": {
    "scrolled": true
   },
   "outputs": [
    {
     "name": "stderr",
     "output_type": "stream",
     "text": [
      "/tmp/ipykernel_28684/2924761753.py:3: UserWarning: Matplotlib is currently using module://matplotlib_inline.backend_inline, which is a non-GUI backend, so cannot show the figure.\n",
      "  fig.show()\n"
     ]
    },
    {
     "data": {
      "image/png": "[encoded data removed]",
      "text/plain": [
       "<Figure size 432x288 with 1 Axes>"
      ]
     },
     "metadata": {
      "needs_background": "light"
     },
     "output_type": "display_data"
    }
   ],
   "source": [
    "image_nb=0\n",
    "fig = plt.gcf()\n",
    "fig.show()\n",
    "fig.canvas.draw()\n",
    "for i in range(len(image_log)):\n",
    "    plt.imshow(image_log[5*i][image_nb])\n",
    "    plt.pause(0.05)\n",
    "    fig.canvas.draw()"
   ]
  },
  {
   "cell_type": "code",
   "execution_count": null,
   "id": "d5259788",
   "metadata": {},
   "outputs": [],
   "source": []
  }
 ],
 "metadata": {
  "kernelspec": {
   "display_name": "Python 3 (ipykernel)",
   "language": "python",
   "name": "python3"
  },
  "language_info": {
   "codemirror_mode": {
    "name": "ipython",
    "version": 3
   },
   "file_extension": ".py",
   "mimetype": "text/x-python",
   "name": "python",
   "nbconvert_exporter": "python",
   "pygments_lexer": "ipython3",
   "version": "3.8.12"
  },
  "toc": {
   "base_numbering": 1,
   "nav_menu": {},
   "number_sections": true,
   "sideBar": true,
   "skip_h1_title": false,
   "title_cell": "Table of Contents",
   "title_sidebar": "Contents",
   "toc_cell": false,
   "toc_position": {},
   "toc_section_display": true,
   "toc_window_display": false
  }
 },
 "nbformat": 4,
 "nbformat_minor": 5
}
